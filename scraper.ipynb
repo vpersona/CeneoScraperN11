{
 "cells": [
  {
   "cell_type": "markdown",
   "metadata": {},
   "source": [
    "## Ceneo Scraper"
   ]
  },
  {
   "cell_type": "markdown",
   "metadata": {},
   "source": [
    "## Struktura opinii w serwisie ceneo.pl"
   ]
  },
  {
   "cell_type": "markdown",
   "metadata": {},
   "source": [
    "|składowa|Selektor|zmienna|\n",
    "|--------|--------|-------|\n",
    "|identyfikator opinii|[\"data-entry-id\"]|opinion_id|\n",
    "|autora|.user-post__author-name|author|\n",
    "|rekomendację|.user-post__author-recomendation >  em|recommend|\n",
    "|liczbę gwiazdek|.user-post__score-count|stars|\n",
    "|data wystawienia opinii|span.user-post__published > time::nth-child(1)[\"datetime\"]|opinion_date|\n",
    "|data zakupu produktu|span.user-post__published > time::nth-child(2)[\"datetime\"]|purchase_date|\n",
    "|ile osób uznało opinię za przydatną|button.vote-yes[\"data-total-vote\"]|up_vote|\n",
    "|ile osób uznało opinię za nieprzydatną|button.vote-no[\"data-total-vote\"]|down_vote|\n",
    "|treść opinii|.user-post__text|content|\n",
    "|listę wad|div.review-feature__title--negatives~div.review-feature__item|cons|\n",
    "|listę zalet|div.review-feature__title--positives~div.review-feature__col|pros|"
   ]
  },
  {
   "cell_type": "markdown",
   "metadata": {},
   "source": [
    "1. Import Bibliotek"
   ]
  },
  {
   "cell_type": "code",
   "execution_count": null,
   "metadata": {},
   "outputs": [],
   "source": [
    "import requests\n",
    "from bs4 import BeautifulSoup"
   ]
  },
  {
   "cell_type": "markdown",
   "metadata": {},
   "source": [
    "2. Wczytanie kodu produktu  o którym mają zostać wczytane opinie\n"
   ]
  },
  {
   "cell_type": "code",
   "execution_count": null,
   "metadata": {},
   "outputs": [],
   "source": [
    "product_id=\"104109736\"\n",
    "url=f'https://www.ceneo.pl/{product_id}#tab=reviews'"
   ]
  },
  {
   "cell_type": "markdown",
   "metadata": {},
   "source": [
    "3. Wysłanie do serwera Ceneo.pl żądania dostępu do strony z opiniami o produkcie"
   ]
  },
  {
   "cell_type": "code",
   "execution_count": null,
   "metadata": {},
   "outputs": [],
   "source": [
    "response=requests.get(url)\n",
    "response.status_code"
   ]
  },
  {
   "cell_type": "markdown",
   "metadata": {},
   "source": []
  },
  {
   "cell_type": "markdown",
   "metadata": {},
   "source": [
    "4. Przekształcenie kodu html w postaci tekstowej do obiektu reprezentującego strukturę DOM\n",
    "5. Wydobycie ze struktry DOm znacznikow odpowiadających opiniom konsumentów"
   ]
  },
  {
   "cell_type": "code",
   "execution_count": null,
   "metadata": {},
   "outputs": [],
   "source": [
    "page = BeautifulSoup(response.text,\"html.parser\")\n",
    "opinions=page.select(\"div.js_product-review\")\n",
    "opinion=page.select_one(\"div.js_product-review\")\n",
    "print(type(page))\n",
    "print(type(opinions))\n",
    "print(type(opinion))\n",
    "\n"
   ]
  },
  {
   "cell_type": "markdown",
   "metadata": {},
   "source": [
    "6. Wydobycie ze struktury znacznika odpowiadającego pojedynczej opinii jej składowych"
   ]
  },
  {
   "cell_type": "code",
   "execution_count": null,
   "metadata": {},
   "outputs": [],
   "source": [
    "def extract(ancestor,selector, attribute=None, return_list=False):\n",
    "    if return_list:\n",
    "        if attribute:\n",
    "            return [tag[attribute].strip() for tag in ancestor.select(\"selector\")]\n",
    "    if selector:\n",
    "        if attribute:\n",
    "            return ancestor.select_one(selector)[attribute].strip()\n",
    "        return ancestor.select_one(selector).text.strip()\n",
    "    if attribute:\n",
    "        return ancestor[attribute].strip()\n",
    "    return ancestor.text.strip()"
   ]
  },
  {
   "cell_type": "code",
   "execution_count": null,
   "metadata": {},
   "outputs": [],
   "source": [
    "single_opinion={\n",
    "    \"opinion_id\": extract(opinion, None,\"data-entry-id\").strip()\n",
    "    \"author\": extract(opinion,\"span.user-post__author-name\")\n",
    "    \"recommend\": extract(opinion,\".user-post__author-recomendation > em\")\n",
    "    \"stars\": extract(opinion,\".user-post__score-count\")\n",
    "    \"content\": extract(opinion,\"div.user-post__text\")\n",
    "    \"cons\": extract(opinion,\"div.review-feature__title--negatives ~ div.review-feature__item\", None, True)\n",
    "    \"pros\": extract(opinion,\"div.review-feature__title--positives ~ div.review-feature__item\", None, True)\n",
    "    \"opinion_date\": extract(opinion,\"span.user-post__published > time::nth-child(1)\",\"datetime\")\n",
    "    \"purchase_date\": extract(opinion,\"span.user-post__published > time::nth-child(2)\",\"datetime\")\n",
    "    \"up_vote\": extract(opinion,\"button.vote-yes\",\"data-total-vote\")\n",
    "    \"down_vote\": extract(opinion,\"button.vote-no\",\"data-total-vote\")\n",
    "}"
   ]
  }
 ],
 "metadata": {
  "kernelspec": {
   "display_name": ".venv",
   "language": "python",
   "name": "python3"
  },
  "language_info": {
   "codemirror_mode": {
    "name": "ipython",
    "version": 3
   },
   "file_extension": ".py",
   "mimetype": "text/x-python",
   "name": "python",
   "nbconvert_exporter": "python",
   "pygments_lexer": "ipython3",
   "version": "3.11.4"
  }
 },
 "nbformat": 4,
 "nbformat_minor": 2
}
